{
 "cells": [
  {
   "cell_type": "code",
   "execution_count": 40,
   "metadata": {},
   "outputs": [],
   "source": [
    "import os\n",
    "import glob\n",
    "import numpy as np\n",
    "\n",
    "import pdb\n",
    "\n",
    "task_set = 0"
   ]
  },
  {
   "cell_type": "code",
   "execution_count": 41,
   "metadata": {},
   "outputs": [],
   "source": [
    "if task_set == 0:\n",
    "    unk_label = 7\n",
    "elif task_set == 1:\n",
    "    unk_label = 11"
   ]
  },
  {
   "cell_type": "markdown",
   "metadata": {},
   "source": [
    "## Known instances"
   ]
  },
  {
   "cell_type": "code",
   "execution_count": 42,
   "metadata": {},
   "outputs": [],
   "source": [
    "val_dir = '/project_data/ramanan/achakrav/4D-PLS/val_preds_raw_TS{}/val_preds/'.format(task_set)\n",
    "semantic_files, instance_files = [], []\n",
    "for file in glob.glob(val_dir + '/*'):\n",
    "    if '_i' in file:\n",
    "        instance_files.append(file)\n",
    "    elif '_c' not in file and '_e' not in file and '_u' not in file and '_pots' not in file:\n",
    "        semantic_files.append(file)\n",
    "semantic_files = sorted(semantic_files)\n",
    "instance_files = sorted(instance_files)\n",
    "assert len(instance_files) == len(semantic_files)"
   ]
  },
  {
   "cell_type": "code",
   "execution_count": 43,
   "metadata": {},
   "outputs": [],
   "source": [
    "num_scans = len(semantic_files)\n",
    "num_known_instances = 0"
   ]
  },
  {
   "cell_type": "code",
   "execution_count": 44,
   "metadata": {},
   "outputs": [],
   "source": [
    "for sem_file, inst_file in zip(semantic_files, instance_files):\n",
    "    sem_labels = np.load(sem_file)\n",
    "    inst_labels = np.load(inst_file)\n",
    "    \n",
    "    mask = sem_labels == unk_label\n",
    "    known_inst_labels = inst_labels[mask]\n",
    "    num_known_instances += len(np.unique(known_inst_labels))"
   ]
  },
  {
   "cell_type": "markdown",
   "metadata": {},
   "source": [
    "## Unknown instances"
   ]
  },
  {
   "cell_type": "code",
   "execution_count": 47,
   "metadata": {},
   "outputs": [
    {
     "ename": "AssertionError",
     "evalue": "",
     "output_type": "error",
     "traceback": [
      "\u001b[0;31m---------------------------------------------------------------------------\u001b[0m",
      "\u001b[0;31mAssertionError\u001b[0m                            Traceback (most recent call last)",
      "\u001b[0;32m<ipython-input-47-35ae1e795caf>\u001b[0m in \u001b[0;36m<module>\u001b[0;34m\u001b[0m\n\u001b[1;32m      1\u001b[0m \u001b[0mval_dir\u001b[0m \u001b[0;34m=\u001b[0m \u001b[0;34m'/project_data/ramanan/achakrav/hu-segmentation/kitti_raw_ts{}'\u001b[0m\u001b[0;34m.\u001b[0m\u001b[0mformat\u001b[0m\u001b[0;34m(\u001b[0m\u001b[0mtask_set\u001b[0m\u001b[0;34m)\u001b[0m\u001b[0;34m\u001b[0m\u001b[0m\n\u001b[1;32m      2\u001b[0m \u001b[0msegment_files\u001b[0m \u001b[0;34m=\u001b[0m \u001b[0msorted\u001b[0m\u001b[0;34m(\u001b[0m\u001b[0mglob\u001b[0m\u001b[0;34m.\u001b[0m\u001b[0mglob\u001b[0m\u001b[0;34m(\u001b[0m\u001b[0mval_dir\u001b[0m \u001b[0;34m+\u001b[0m \u001b[0;34m'/*/*/*.npz'\u001b[0m\u001b[0;34m)\u001b[0m\u001b[0;34m)\u001b[0m\u001b[0;34m\u001b[0m\u001b[0m\n\u001b[0;32m----> 3\u001b[0;31m \u001b[0;32massert\u001b[0m \u001b[0mlen\u001b[0m\u001b[0;34m(\u001b[0m\u001b[0msegment_files\u001b[0m\u001b[0;34m)\u001b[0m \u001b[0;34m==\u001b[0m \u001b[0mlen\u001b[0m\u001b[0;34m(\u001b[0m\u001b[0minstance_files\u001b[0m\u001b[0;34m)\u001b[0m\u001b[0;34m\u001b[0m\u001b[0m\n\u001b[0m",
      "\u001b[0;31mAssertionError\u001b[0m: "
     ]
    }
   ],
   "source": [
    "val_dir = '/project_data/ramanan/achakrav/hu-segmentation/kitti_raw_ts{}'.format(task_set)\n",
    "segment_files = sorted(glob.glob(val_dir + '/*/*/*.npz'))\n",
    "assert len(segment_files) == len(instance_files)"
   ]
  },
  {
   "cell_type": "code",
   "execution_count": 37,
   "metadata": {},
   "outputs": [],
   "source": [
    "num_scans = len(segment_files)\n",
    "num_unknown_instances = 0"
   ]
  },
  {
   "cell_type": "code",
   "execution_count": 38,
   "metadata": {},
   "outputs": [],
   "source": [
    "for segment_file in segment_files:\n",
    "    segment = np.load(segment_file, allow_pickle=True)\n",
    "    num_unknown_instances += len(segment['instances'])"
   ]
  },
  {
   "cell_type": "markdown",
   "metadata": {},
   "source": [
    "## Print statistics"
   ]
  },
  {
   "cell_type": "code",
   "execution_count": 46,
   "metadata": {},
   "outputs": [
    {
     "name": "stdout",
     "output_type": "stream",
     "text": [
      "********************************************************************************\n",
      "# scans:  15077\n",
      "# known instances:  15077\n",
      "# unknown instances:  816453\n",
      "********************************************************************************\n"
     ]
    }
   ],
   "source": [
    "print('*' * 80)\n",
    "print('# scans: ', num_scans)\n",
    "print('# known instances: ', num_known_instances)\n",
    "print('# unknown instances: ', num_unknown_instances)\n",
    "print('*' * 80)"
   ]
  },
  {
   "cell_type": "code",
   "execution_count": null,
   "metadata": {},
   "outputs": [],
   "source": []
  }
 ],
 "metadata": {
  "kernelspec": {
   "display_name": "Python 3",
   "language": "python",
   "name": "python3"
  },
  "language_info": {
   "codemirror_mode": {
    "name": "ipython",
    "version": 3
   },
   "file_extension": ".py",
   "mimetype": "text/x-python",
   "name": "python",
   "nbconvert_exporter": "python",
   "pygments_lexer": "ipython3",
   "version": "3.7.0"
  }
 },
 "nbformat": 4,
 "nbformat_minor": 4
}
